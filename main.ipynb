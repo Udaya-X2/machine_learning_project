{
 "cells": [
  {
   "cell_type": "code",
   "execution_count": null,
   "metadata": {},
   "outputs": [],
   "source": [
    "import numpy as np\n",
    "import pandas as pd\n",
    "import seaborn as sns\n",
    "from matplotlib import pyplot as plt\n",
    "from sklearn.linear_model import LogisticRegression\n",
    "from sklearn.metrics import (confusion_matrix, log_loss, make_scorer,\n",
    "                             roc_auc_score, roc_curve)\n",
    "from sklearn.model_selection import learning_curve, train_test_split\n",
    "from sklearn.pipeline import make_pipeline\n",
    "from sklearn.preprocessing import StandardScaler"
   ]
  },
  {
   "cell_type": "code",
   "execution_count": null,
   "metadata": {},
   "outputs": [],
   "source": [
    "# Read in survey data.\n",
    "df = pd.read_csv('survey_results_public.csv')"
   ]
  },
  {
   "cell_type": "code",
   "execution_count": null,
   "metadata": {},
   "outputs": [],
   "source": [
    "# Filter out all non-students.\n",
    "students = df[df['Employment'].str.contains('Student', na=False)]"
   ]
  },
  {
   "cell_type": "code",
   "execution_count": null,
   "metadata": {},
   "outputs": [],
   "source": [
    "# Drop features with mostly missing values.\n",
    "nalimit = len(students) * 0.55\n",
    "students = students.dropna(axis='columns', thresh=nalimit)\n",
    "del students['ResponseId']  # Don't need response ID."
   ]
  },
  {
   "cell_type": "code",
   "execution_count": null,
   "metadata": {},
   "outputs": [],
   "source": [
    "# Sample a portion of the data.\n",
    "students = students.sample(2000, random_state=42, ignore_index=True)"
   ]
  },
  {
   "cell_type": "code",
   "execution_count": null,
   "metadata": {},
   "outputs": [],
   "source": [
    "# Explore the domain of each feature (all unique values).\n",
    "for feature in students:\n",
    "    responses = set()\n",
    "\n",
    "    # Survey responses are semicolon-separated, so they must be unraveled.\n",
    "    for response in students[feature].dropna():\n",
    "        responses |= set(str(response).split(';'))\n",
    "\n",
    "    print(f'{feature} ({len(responses)}): {\"; \".join(sorted(responses))}\\n')"
   ]
  },
  {
   "cell_type": "code",
   "execution_count": null,
   "metadata": {},
   "outputs": [],
   "source": [
    "# Select data that can either be counted or categorized into features.\n",
    "countable_data = ['LanguageHaveWorkedWith', 'DatabaseHaveWorkedWith',\n",
    "                  'PlatformHaveWorkedWith', 'WebframeHaveWorkedWith',\n",
    "                  'MiscTechHaveWorkedWith', 'ToolsTechHaveWorkedWith']\n",
    "categorical_data = ['MainBranch', 'EdLevel', 'Country', 'Age', 'Ethnicity']\n",
    "\n",
    "# Isolate the IDEs column; this will be used in the output vector.\n",
    "output = 'NEWCollabToolsHaveWorkedWith'\n",
    "\n",
    "# Generate features by counting the number of responses to a question.\n",
    "df1 = students[countable_data].applymap(lambda x: x.count(';') + 1,\n",
    "                                        na_action='ignore')\n",
    "\n",
    "# Generate features by encoding distinct survey responses as digits.\n",
    "df2 = students[categorical_data].apply(lambda x: x.factorize()[0])\n",
    "\n",
    "# Generate boolean features based on employment status\n",
    "# and usage of version control systems (i.e., Git).\n",
    "s1 = students['Employment'].str.contains('Employed')\n",
    "s2 = students['VersionControlSystem'].map(lambda x: x != \"I don't use one\",\n",
    "                                          na_action='ignore')\n",
    "\n",
    "# Generate additional numeric features based on the number of operating\n",
    "# systems used by the respondent and how many years they have coded.\n",
    "s3 = students['OpSysPersonal use'] + ';' + students['OpSysProfessional use']\n",
    "s3 = s3.map(lambda x: len(set(x.split(';'))), na_action='ignore').fillna(1)\n",
    "s3.rename('OperatingSystems', inplace=True)\n",
    "s4 = students['YearsCode'].replace('Less than 1 year', 0.5)\n",
    "s4 = s4.replace('More than 50 years', 50.5)"
   ]
  },
  {
   "cell_type": "code",
   "execution_count": null,
   "metadata": {},
   "outputs": [],
   "source": [
    "# Combine each generated feature into the design matrix.\n",
    "X = pd.concat([df1, df2, s1, s2, s3, s4], axis=1).fillna(0).astype(float)\n",
    "\n",
    "# Classify respondents by their usage of VS Code in the output vector.\n",
    "y = students[output].str.contains('Visual Studio Code').fillna(0).astype(int)\n",
    "\n",
    "# Split data into training (60%), test (20%), and validation (20%) sets.\n",
    "X_train, X_test, y_train, y_test = train_test_split(X, y, train_size=0.6,\n",
    "                                                    random_state=42)\n",
    "X_test, X_val, y_test, y_val = train_test_split(X_test, y_test, test_size=0.5,\n",
    "                                                random_state=42)"
   ]
  },
  {
   "cell_type": "code",
   "execution_count": null,
   "metadata": {},
   "outputs": [],
   "source": [
    "# Chain feature scaling and logistic regression into a single pipeline.\n",
    "# This is to ensure no bias occurs from scaling all data prematurely.\n",
    "pipeline = make_pipeline(StandardScaler(), LogisticRegression(penalty='none'))\n",
    "\n",
    "# Generate a learning curve by cross-validating the training\n",
    "# and test data across several different training sizes.\n",
    "train_sizes, train_scores, test_scores = learning_curve(\n",
    "    estimator=pipeline, X=X_train, y=y_train,\n",
    "    train_sizes=np.linspace(0.1, 1.0, 10),\n",
    "    scoring=make_scorer(log_loss, needs_proba=True))\n",
    "train_mean = np.mean(train_scores, axis=1)\n",
    "test_mean = np.mean(test_scores, axis=1)\n",
    "\n",
    "# Plot the learning curve.\n",
    "plt.plot(train_sizes, train_mean, color='#b45f06', label='Training Error')\n",
    "plt.plot(train_sizes, test_mean, color='#6aa84f', label='Validation Error')\n",
    "plt.title('Learning Curve')\n",
    "plt.xlabel('Training Examples')\n",
    "plt.ylabel('Cost')\n",
    "plt.grid()\n",
    "plt.legend()\n",
    "plt.show()"
   ]
  },
  {
   "cell_type": "code",
   "execution_count": null,
   "metadata": {},
   "outputs": [],
   "source": [
    "# Apply feature scaling to the training data.\n",
    "scaler = StandardScaler()\n",
    "X_train = scaler.fit_transform(X_train)\n",
    "\n",
    "# Normalize the test/validation data using the same scaling.\n",
    "X_test = scaler.transform(X_test)\n",
    "X_val = scaler.transform(X_val)\n",
    "\n",
    "# Fit logistic regression model to the training set.\n",
    "logmodel = LogisticRegression(penalty='none').fit(X_train, y_train)"
   ]
  },
  {
   "cell_type": "code",
   "execution_count": null,
   "metadata": {},
   "outputs": [],
   "source": [
    "def percent_positive(data: pd.Series):\n",
    "    return f'{data.value_counts(normalize=True)[1]:.2%}'\n",
    "\n",
    "\n",
    "# Display the proportion of VS Code users in each dataset.\n",
    "print(f'VS Code Users (Training):\\t{percent_positive(y_train)}')\n",
    "print(f'VS Code Users (Testing):\\t{percent_positive(y_test)}')\n",
    "print(f'VS Code Users (Validation):\\t{percent_positive(y_val)}')"
   ]
  },
  {
   "cell_type": "code",
   "execution_count": null,
   "metadata": {},
   "outputs": [],
   "source": [
    "# Initial accuracy test.\n",
    "y_pred = logmodel.predict(X_test)\n",
    "print(f'Accuracy = {logmodel.score(X_test, y_test)}')"
   ]
  },
  {
   "cell_type": "code",
   "execution_count": null,
   "metadata": {},
   "outputs": [],
   "source": [
    "# Compute the ROC using the confidence of each prediction.\n",
    "y_proba = logmodel.predict_proba(X_test)[:, 1]\n",
    "fpr, tpr, thresholds = roc_curve(y_test, y_proba)\n",
    "\n",
    "# Plot the ROC curve. The AUC is listed in the legend.\n",
    "plt.plot(fpr, tpr, color='darkorange',\n",
    "         label=f'ROC Curve (AUC = {roc_auc_score(y_test, y_proba):.4})')\n",
    "plt.plot([0, 1], [0, 1], color='navy', linestyle='--')\n",
    "plt.title('Receiver Operating Characteristic')\n",
    "plt.xlabel('False Positive Rate')\n",
    "plt.ylabel('True Positive Rate')\n",
    "plt.xlim([0.0, 1.01])\n",
    "plt.ylim([0.0, 1.01])\n",
    "plt.legend(loc='lower right')\n",
    "plt.show()"
   ]
  },
  {
   "cell_type": "code",
   "execution_count": null,
   "metadata": {},
   "outputs": [],
   "source": [
    "# Calculate precision and recall score.\n",
    "cm = confusion_matrix(y_test, y_pred)\n",
    "TN, FP, FN, TP = cm[0][0], cm[0][1], cm[1][0], cm[1][1]\n",
    "print(f'Precision = {TP / (TP + FP)}')\n",
    "print(f'Recall = {TP / (TP + FN)}')"
   ]
  }
 ],
 "metadata": {
  "kernelspec": {
   "display_name": "Python 3.10.2 64-bit",
   "language": "python",
   "name": "python3"
  },
  "language_info": {
   "codemirror_mode": {
    "name": "ipython",
    "version": 3
   },
   "file_extension": ".py",
   "mimetype": "text/x-python",
   "name": "python",
   "nbconvert_exporter": "python",
   "pygments_lexer": "ipython3",
   "version": "3.10.2"
  },
  "orig_nbformat": 4,
  "vscode": {
   "interpreter": {
    "hash": "eb9046b089dd11987e26c966e9cd61a5c9ff6995a79404100dca27b4da6e48fe"
   }
  }
 },
 "nbformat": 4,
 "nbformat_minor": 2
}
