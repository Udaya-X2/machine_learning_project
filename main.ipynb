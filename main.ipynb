{
 "cells": [
  {
   "cell_type": "code",
   "execution_count": null,
   "metadata": {},
   "outputs": [],
   "source": [
    "import numpy as np\n",
    "import pandas as pd\n",
    "import seaborn as sns\n",
    "from matplotlib import pyplot as plt\n",
    "from sklearn.linear_model import LogisticRegression\n",
    "from sklearn.model_selection import learning_curve, train_test_split\n",
    "from sklearn.preprocessing import StandardScaler"
   ]
  },
  {
   "cell_type": "code",
   "execution_count": null,
   "metadata": {},
   "outputs": [],
   "source": [
    "# Read in survey data.\n",
    "df = pd.read_csv(\"survey_results_public.csv\")"
   ]
  },
  {
   "cell_type": "code",
   "execution_count": null,
   "metadata": {},
   "outputs": [],
   "source": [
    "# Filter out all non-students.\n",
    "students = df[df['Employment'].str.contains('Student', na=False)]"
   ]
  },
  {
   "cell_type": "code",
   "execution_count": null,
   "metadata": {},
   "outputs": [],
   "source": [
    "# Drop features with mostly missing values.\n",
    "nalimit = len(students) * 0.55\n",
    "students = students.dropna(axis='columns', thresh=nalimit)\n",
    "del students['ResponseId']  # Don't need response ID."
   ]
  },
  {
   "cell_type": "code",
   "execution_count": null,
   "metadata": {},
   "outputs": [],
   "source": [
    "# Explore the domain of each feature (all unique values).\n",
    "for feature in students:\n",
    "    responses = set()\n",
    "\n",
    "    # Survey responses are semicolon-separated, so they must be unraveled.\n",
    "    for response in students[feature].dropna():\n",
    "        responses |= set(str(response).split(';'))\n",
    "\n",
    "    print(f'{feature} ({len(responses)}): {\"; \".join(sorted(responses))}\\n')"
   ]
  },
  {
   "cell_type": "code",
   "execution_count": null,
   "metadata": {},
   "outputs": [],
   "source": [
    "# Select data that can either be counted or categorized into features.\n",
    "countable_data = ['LanguageHaveWorkedWith', 'DatabaseHaveWorkedWith',\n",
    "                  'PlatformHaveWorkedWith', 'WebframeHaveWorkedWith',\n",
    "                  'MiscTechHaveWorkedWith', 'ToolsTechHaveWorkedWith']\n",
    "categorizable_data = ['MainBranch', 'EdLevel', 'Country', 'Age', 'Ethnicity']\n",
    "\n",
    "# Isolate the IDEs column; this will be used in the output vector.\n",
    "output = 'NEWCollabToolsHaveWorkedWith'\n",
    "\n",
    "# Generate features by counting the number of responses to a question.\n",
    "df1 = students[countable_data].applymap(lambda x: x.count(';') + 1,\n",
    "                                        na_action='ignore')\n",
    "\n",
    "# Generate features by encoding distinct survey responses as digits.\n",
    "df2 = students[categorizable_data].apply(lambda x: x.factorize()[0])\n",
    "\n",
    "# Generate boolean features based on employment status\n",
    "# and usage of version control systems (i.e., Git).\n",
    "s1 = students['Employment'].str.contains('Employed')\n",
    "s2 = students['VersionControlSystem'].map(lambda x: x != \"I don't use one\",\n",
    "                                          na_action='ignore')\n",
    "\n",
    "# Generate additional numeric features based on the number of operating\n",
    "# systems used by the respondent and how many years they have coded.\n",
    "s3 = students['OpSysPersonal use'] + ';' + students['OpSysProfessional use']\n",
    "s3 = s3.map(lambda x: len(set(x.split(';'))), na_action='ignore').fillna(1)\n",
    "s3.rename(\"OperatingSystems\", inplace=True)\n",
    "s4 = students['YearsCode'].replace('Less than 1 year', 0.5)\n",
    "s4 = s4.replace('More than 50 years', 50.5)"
   ]
  },
  {
   "cell_type": "code",
   "execution_count": null,
   "metadata": {},
   "outputs": [],
   "source": [
    "# Combine each generated feature into the design matrix.\n",
    "X = pd.concat([df1, df2, s1, s2, s3, s4], axis=1).fillna(0).astype(float)\n",
    "\n",
    "# Classify respondents by their usage of VS Code in the output vector.\n",
    "y = students[output].str.contains('Visual Studio Code').fillna(0).astype(int)"
   ]
  },
  {
   "cell_type": "code",
   "execution_count": null,
   "metadata": {},
   "outputs": [],
   "source": [
    "# Split data into training (60%), validation (20%), and test (20%) sets.\n",
    "X_train, X_test, y_train, y_test = train_test_split(X, y, train_size=0.6,\n",
    "                                                    random_state=42)\n",
    "X_test, X_val, y_test, y_val = train_test_split(X_test, y_test, test_size=0.5,\n",
    "                                                random_state=42)"
   ]
  },
  {
   "cell_type": "code",
   "execution_count": null,
   "metadata": {},
   "outputs": [],
   "source": [
    "# Apply feature scaling to the training data.\n",
    "scaler = StandardScaler().fit(X_train)\n",
    "X_train = pd.DataFrame(scaler.transform(X_train), columns=X.columns)"
   ]
  },
  {
   "cell_type": "code",
   "execution_count": null,
   "metadata": {},
   "outputs": [],
   "source": [
    "# Use logistic regression to determine a decision boundary.\n",
    "logmodel = LogisticRegression().fit(X_train, y_train)"
   ]
  },
  {
   "cell_type": "code",
   "execution_count": null,
   "metadata": {},
   "outputs": [],
   "source": [
    "# Initial accuracy test.\n",
    "y_pred = logmodel.predict(X_test)\n",
    "logmodel.score(X_test, y_test)"
   ]
  }
 ],
 "metadata": {
  "kernelspec": {
   "display_name": "Python 3.10.2 64-bit",
   "language": "python",
   "name": "python3"
  },
  "language_info": {
   "codemirror_mode": {
    "name": "ipython",
    "version": 3
   },
   "file_extension": ".py",
   "mimetype": "text/x-python",
   "name": "python",
   "nbconvert_exporter": "python",
   "pygments_lexer": "ipython3",
   "version": "3.10.2"
  },
  "orig_nbformat": 4,
  "vscode": {
   "interpreter": {
    "hash": "eb9046b089dd11987e26c966e9cd61a5c9ff6995a79404100dca27b4da6e48fe"
   }
  }
 },
 "nbformat": 4,
 "nbformat_minor": 2
}
